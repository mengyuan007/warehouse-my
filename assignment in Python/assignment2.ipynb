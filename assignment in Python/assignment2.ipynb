{
 "cells": [
  {
   "cell_type": "code",
   "execution_count": 2,
   "metadata": {},
   "outputs": [],
   "source": [
    "import pandas as pd\n",
    "import numpy as np\n",
    "\n",
    "from sklearn import ensemble, linear_model\n",
    "from sklearn.mixture import GaussianMixture\n",
    "from sklearn import naive_bayes\n",
    "from sklearn.tree import DecisionTreeClassifier\n",
    "from sklearn.ensemble import RandomForestClassifier\n",
    "\n",
    "from sklearn.metrics import precision_score, recall_score\n",
    "from sklearn.model_selection import cross_val_predict\n",
    "from sklearn.metrics import precision_recall_curve\n",
    "\n",
    "from sklearn.metrics import fbeta_score\n",
    "from sklearn.metrics import roc_curve, roc_auc_score\n",
    "\n",
    "import matplotlib.pyplot as plt"
   ]
  },
  {
   "cell_type": "markdown",
   "metadata": {},
   "source": [
    "- define function for data split"
   ]
  },
  {
   "cell_type": "code",
   "execution_count": 16,
   "metadata": {},
   "outputs": [],
   "source": [
    "np.random.seed(2021)\n",
    "\n",
    "def split_train_test(data_pos, data_neg, test_ratio):\n",
    "    shuffled_indices_pos = np.random.permutation(len(data_pos))\n",
    "    test_set_size_pos = int(len(data_pos) * test_ratio)\n",
    "    test_indices_pos = np.array(shuffled_indices_pos[:test_set_size_pos])\n",
    "    train_indices_pos = np.array(shuffled_indices_pos[test_set_size_pos:])\n",
    "    \n",
    "    shuffled_indices_neg = np.random.permutation(len(data_neg))\n",
    "    test_set_size_neg = int(len(data_neg) * test_ratio)\n",
    "    test_indices_neg = np.array(shuffled_indices_neg[:test_set_size_neg])\n",
    "    train_indices_neg = np.array(shuffled_indices_neg[test_set_size_neg:])\n",
    "    \n",
    "    return np.concatenate((data_pos[train_indices_pos], data_neg[train_indices_neg])), np.concatenate((data_pos[test_indices_pos], data_neg[test_indices_neg]))"
   ]
  },
  {
   "cell_type": "markdown",
   "metadata": {},
   "source": [
    "- define functions for plot graph"
   ]
  },
  {
   "cell_type": "code",
   "execution_count": 50,
   "metadata": {},
   "outputs": [],
   "source": [
    "def plot_precision_recall_vs_threshold(precisions, recalls, thresholds):\n",
    "    plt.xlabel(\"Threshold\", fontsize=12)\n",
    "    plt.plot(thresholds, precisions[:-1], label=\"Precision\")\n",
    "    plt.plot(thresholds, recalls[:-1], label=\"Recall\")\n",
    "    plt.legend()\n",
    "    \n",
    "    \n",
    "def plot_precision_vs_recall(precisions, recalls):\n",
    "    plt.plot(recalls, precisions, linewidth=2, label=\"Precision_vs_Recall\")\n",
    "    plt.xlabel(\"Recall\", fontsize=12)\n",
    "    plt.ylabel(\"Precision\", fontsize=12)\n",
    "    plt.axis([0, 1, 0, 1])\n",
    "    plt.grid(True)\n",
    "    \n",
    "    \n",
    "def plot_fbeta_vs_threshold(fbeta, thresholds):\n",
    "    plt.xlabel(\"Threshold\", fontsize=12)\n",
    "    fbeta_max = np.max(fbeta)\n",
    "    thres_fbeta_max = thresholds[fbeta == fbeta_max][0]\n",
    "    plt.axis([0, 1, 0, 1])\n",
    "    plt.plot(thresholds, fbeta, label=\"fbeta\")\n",
    "    plt.plot([thres_fbeta_max, thres_fbeta_max], [0., fbeta_max], \"r:\")\n",
    "    plt.plot([-2, thres_fbeta_max], [fbeta_max, fbeta_max], \"r:\")\n",
    "    plt.plot([thres_fbeta_max], [fbeta_max], \"ro\")\n",
    "    plt.legend()\n",
    "    \n",
    "    \n",
    "def plot_roc_curve(fpr, tpr):\n",
    "    plt.axis([0, 1, 0, 1])\n",
    "    plt.xlabel(\"False Positive Rate\", fontsize=12)\n",
    "    plt.ylabel(\"True Positive Rate\", fontsize=12)\n",
    "    plt.plot(fpr, tpr, label=\"roc_curve\")\n",
    "    plt.plot([0, 1], [0, 1], 'k--')\n",
    "    plt.legend()\n",
    "    "
   ]
  },
  {
   "cell_type": "markdown",
   "metadata": {},
   "source": [
    "- define functions for evaluations"
   ]
  },
  {
   "cell_type": "code",
   "execution_count": 89,
   "metadata": {},
   "outputs": [],
   "source": [
    "def evaluations(y_pred_proba, X, y, beta, graph=False):\n",
    "    print(\"Now going to find threshold maximize fbeta...\")\n",
    "    # compute fbeta under different thresholds\n",
    "    thresholds_test = np.arange(0, 1, 0.05) # probability between 0 to 1\n",
    "    fbetas = np.zeros((len(thresholds_test)))\n",
    "    for i in range(len(thresholds_test)):\n",
    "        y_pred_test = (y_pred_proba >= thresholds_test[i])\n",
    "        fbetas[i] = fbeta_score(y, y_pred_test, beta=beta, average='macro')\n",
    "    # threshold maximize fbeta \n",
    "    fbeta_max = np.max(fbetas)\n",
    "    thres_fbeta_max = thresholds_test[fbetas == fbeta_max][0]\n",
    "    print(\"Finished, now going to get precision and recall...\")\n",
    "    # pricision & recall \n",
    "    y_pred = (y_pred_proba >= thres_fbeta_max)\n",
    "    precision = precision_score(y, y_pred)\n",
    "    recall = recall_score(y, y_pred)\n",
    "    print(\"Finished, now going to get ROC AUC...\")\n",
    "    # ROC AUC \n",
    "    roc_auc = roc_auc_score(y, y_pred_proba)\n",
    "\n",
    "    # results\n",
    "    res = list(map(lambda x: round(x, 4),[precision, recall, fbeta_max, roc_auc]))\n",
    "    \n",
    "    if graph:\n",
    "        # plot precision_recall_vs_threshold\n",
    "        plt.subplot(321)\n",
    "        precisions, recalls, thresholds_pr = precision_recall_curve(y, y_pred_proba)\n",
    "        plot_precision_recall_vs_threshold(precisions, recalls, thresholds_pr)\n",
    "        # plot fbeta_vs_threshold\n",
    "        plt.subplot(322)\n",
    "        plot_fbeta_vs_threshold(fbetas, thresholds_test)\n",
    "        # plot roc_auc_curve\n",
    "        plt.subplot(212)\n",
    "        fpr, tpr, thresholds_ = roc_curve(y, y_pred_proba)\n",
    "        plot_roc_curve(fpr, tpr)\n",
    "        \n",
    "    print(\"Done!\") \n",
    "    return res\n",
    "\n",
    "\n",
    "def fit_and_evaluations(model, X_train, y_train, X, y, beta, graph=False):\n",
    "    # fit model\n",
    "    model.fit(X_train, y_train)\n",
    "    print(\"Finish fit model, now going to predict proba...\")\n",
    "    # predict_proba get probability, use for adjust threshold\n",
    "    y_pred_proba_ = model.predict_proba(X)\n",
    "    y_pred_proba = y_pred_proba_[:, 1]\n",
    "    print(\"Finished. \", end=' ')\n",
    "    res = evaluations(y_pred_proba, X, y, beta, graph=graph)\n",
    "    return res\n",
    "    \n",
    "\n",
    "def GMM_classifier_evaluations(cluster_n, max_iter, n_init, X_train, y_train, X, y, models, beta, graph=False):\n",
    "    # train GMM\n",
    "    gm = GaussianMixture(n_components=cluster_n, max_iter=max_iter, n_init=n_init)\n",
    "    print(\"GaussianMixtureModel created, now going to fit model...\")\n",
    "    gm.fit(X_train)\n",
    "    print(\"Finished, now going to cluster train data...\")\n",
    "    gmm_pred_proba_train = gm.predict_proba(X_train)\n",
    "    cluster_cls_train = gmm_pred_proba_train > (1./cluster_n) # clusters to train classifier\n",
    "    # test data\n",
    "    print(\"Finished, now going to cluster test data...\")\n",
    "    gmm_pred_proba = gm.predict_proba(X)\n",
    "    cluster_cls = gmm_pred_proba > (1./cluster_n) # clusters to test\n",
    "    print(\"Finished, now going to train classifiers and get proba...\")\n",
    "    # compute proba base on formula\n",
    "    res_all = {}\n",
    "    for model in models:\n",
    "        print(f\"******{model}******\")\n",
    "        y_pred_proba = np.zeros(len(X))\n",
    "        for k in range(cluster_n):\n",
    "            if np.all(y_train[cluster_cls_train[:,k]]==1) or np.all(y_train[cluster_cls_train[:,k]]==0):\n",
    "                print(f\"Same Labels in Cluster{k}, skip.\")\n",
    "                continue\n",
    "            # train classifier\n",
    "            model.fit(X_train[cluster_cls_train[:,k]], y_train[cluster_cls_train[:,k]])\n",
    "            # test data\n",
    "            pred_proba_ = model.predict_proba(X[cluster_cls[:, k]])\n",
    "            # compute proba\n",
    "            ind = 0\n",
    "            for i in range(len(X)):\n",
    "                if cluster_cls[i, k]:\n",
    "                    y_pred_proba[i] += gmm_pred_proba[i, k] * pred_proba_[ind, 1]\n",
    "                    ind += 1\n",
    "            print(f\"Cluster{k} finished!\")\n",
    "        res = evaluations(y_pred_proba, X, y, beta, graph=graph)\n",
    "        res_all[f\"{model}\"] = res\n",
    "    return res_all\n"
   ]
  },
  {
   "cell_type": "markdown",
   "metadata": {},
   "source": [
    "### Data Pre-Processing"
   ]
  },
  {
   "cell_type": "code",
   "execution_count": null,
   "metadata": {},
   "outputs": [
    {
     "name": "stderr",
     "output_type": "stream",
     "text": [
      "/Users/mengyuan/opt/anaconda3/envs/oplex/lib/python3.7/site-packages/IPython/core/interactiveshell.py:3156: DtypeWarning: Columns (0,19) have mixed types.Specify dtype option on import or set low_memory=False.\n",
      "  interactivity=interactivity, compiler=compiler, result=result)\n"
     ]
    }
   ],
   "source": [
    "loanStats = pd.read_csv('LoanStats_2016Q4.csv', skiprows = 1)\n",
    "rejectStats = pd.read_csv('RejectStats_2016Q4.csv', skiprows = 1)"
   ]
  },
  {
   "cell_type": "markdown",
   "metadata": {},
   "source": [
    "Drop last two rows"
   ]
  },
  {
   "cell_type": "code",
   "execution_count": 4,
   "metadata": {},
   "outputs": [],
   "source": [
    "loanStats = loanStats.drop(loanStats.index[-2:])"
   ]
  },
  {
   "cell_type": "markdown",
   "metadata": {},
   "source": [
    "Drop first two columns since they are empty"
   ]
  },
  {
   "cell_type": "code",
   "execution_count": 5,
   "metadata": {},
   "outputs": [],
   "source": [
    "loanStats = loanStats.drop(['id', 'member_id'], axis = 1)"
   ]
  },
  {
   "cell_type": "markdown",
   "metadata": {},
   "source": [
    "There are only 9 columns in reject data, let's try to match loan data with reject data:<br/>\n",
    "* 'loan_amnt' in loanStats should match with 'Amount Requested' in rejectStats.\n",
    "* 'issue_d' in loanStats is the issue date, it should be later than 'Application Date' in rejectStats, let's ignore this pair for now.\n",
    "* 'title' in loanStats should match with 'Loan Title' in rejectStats. However, we need to deal with upper/lower case and space/underscore issues.\n",
    "* There is no column in loanStats matches with 'Risk_Score' in rejectStats, would be very useful if there was one.\n",
    "* 'dti' in loanStats matches with 'Debt-To-Income Ratio' in rejectStats.\n",
    "* 'zip_code' and 'addr_state' in loanStats match with 'Zip Code' and 'State' in rejectStats respectively. Zip codes are only available in first 3 digits, and we might need to get external data for the demographics about the zip code.\n",
    "* 'emp_length' in loanStats matches with 'Employment Length' in rejectStats.\n",
    "* 'policy_code' in loanStats matches with 'Policy Code' in rejectStats."
   ]
  },
  {
   "cell_type": "markdown",
   "metadata": {},
   "source": [
    "However, policy code is useless since it carries different meaning in the two datasets, so we should ignore this pair of columns.<br/>\n",
    "Let's now build two new dataframes, and keep their columns consistent."
   ]
  },
  {
   "cell_type": "code",
   "execution_count": 6,
   "metadata": {},
   "outputs": [],
   "source": [
    "approved = pd.DataFrame()\n",
    "rejected = pd.DataFrame()"
   ]
  },
  {
   "cell_type": "markdown",
   "metadata": {},
   "source": [
    "Copy values from 'loan_amnt' and 'Amount Requested' directly to the new dataframes"
   ]
  },
  {
   "cell_type": "code",
   "execution_count": 7,
   "metadata": {},
   "outputs": [],
   "source": [
    "approved['amount'] = loanStats['loan_amnt']\n",
    "rejected['amount'] = rejectStats['Amount Requested']"
   ]
  },
  {
   "cell_type": "markdown",
   "metadata": {},
   "source": [
    "Using lambda functions to convert strings, first make all characters lower cases, and split them by space, then join them using '\\_'. While joining, remove words like 'and', 'expenses', 'financing', 'loan', 'refinancing', as these words are not important in reasons for loans. To further consolidate the reasons, we merge 'housing' to 'home\\_buying', 'moving' to 'moving\\_relocation', 'renewable\\_energy' to 'green', and 'small\\_business' to 'business'."
   ]
  },
  {
   "cell_type": "code",
   "execution_count": 8,
   "metadata": {},
   "outputs": [],
   "source": [
    "stop_words = ['and', 'expenses', 'financing', 'loan', 'refinancing']\n",
    "approved['reason'] = loanStats['title'].apply(lambda x: 'other' if type(x) != str else '_'.join([i for i in x.lower().split() if i not in stop_words]))\n",
    "rejected['reason'] = rejectStats['Loan Title'].apply(lambda x: 'other' if type(x) != str else '_'.join([i for i in x.lower().split() if i not in stop_words]))\n",
    "convert = {'house': 'home_buying', 'moving': 'moving_relocation', 'renewable_energy': 'green', 'small_business': 'business'}\n",
    "rejected['reason'] = rejected['reason'].apply(lambda x: convert[x] if x in convert else x)"
   ]
  },
  {
   "cell_type": "markdown",
   "metadata": {},
   "source": [
    "Copy values from 'dti' and 'Debt-To-Income Ratio', however, to identify Not-a-Number floats, we test x == x, in it's a NaN, we set it to the maximum in the dataset."
   ]
  },
  {
   "cell_type": "code",
   "execution_count": 9,
   "metadata": {},
   "outputs": [],
   "source": [
    "approved['debt_to_income'] = loanStats['dti'].apply(lambda x: max(0.0, min(x / 100, 1.0)) if x == x else 1.0)\n",
    "rejected['debt_to_income'] = rejectStats['Debt-To-Income Ratio'].apply(lambda x: max(0.0, min(float(x[:-1]) / 100, 1.0)))"
   ]
  },
  {
   "cell_type": "markdown",
   "metadata": {},
   "source": [
    "Keep the first 3 digits of the zip codes since the last 2 digits are masked, however, it is unnecessary to convert them to numbers."
   ]
  },
  {
   "cell_type": "code",
   "execution_count": 10,
   "metadata": {},
   "outputs": [],
   "source": [
    "approved['zip3'] = loanStats['zip_code'].apply(lambda x: x[:3] if type(x) == str else 'N/A')\n",
    "rejected['zip3'] = rejectStats['Zip Code'].apply(lambda x: x[:3] if type(x) == str else 'N/A')\n",
    "approved['state'] = loanStats['addr_state']\n",
    "rejected['state'] = rejectStats['State']"
   ]
  },
  {
   "cell_type": "markdown",
   "metadata": {},
   "source": [
    "Convert the employment length to numerical values, if it is not specified, or less than a year, we take them as 0."
   ]
  },
  {
   "cell_type": "code",
   "execution_count": 11,
   "metadata": {},
   "outputs": [],
   "source": [
    "approved['employ_length'] = loanStats['emp_length'].apply(lambda x: 0 if type(x) != str or x[:3] == '< 1' else int(x[:2]))\n",
    "rejected['employ_length'] = rejectStats['Employment Length'].apply(lambda x: 0 if type(x) != str or x[:3] == '< 1' else int(x[:2]))"
   ]
  },
  {
   "cell_type": "markdown",
   "metadata": {},
   "source": [
    "The column 'reason' is now the only nominal column, we may use function get\\_dummies, drop 'other' is recommended since 'reason\\_=\\_other' is fuzzy, and should be expressed by 0 in all other reason columns."
   ]
  },
  {
   "cell_type": "code",
   "execution_count": 12,
   "metadata": {},
   "outputs": [],
   "source": [
    "approved = pd.concat([approved, pd.get_dummies(approved['reason'], prefix = 'reason', prefix_sep = '_=_').drop('reason_=_other', axis = 1)], axis = 1).drop('reason', axis = 1)\n",
    "rejected = pd.concat([rejected, pd.get_dummies(rejected['reason'], prefix = 'reason', prefix_sep = '_=_').drop('reason_=_other', axis = 1)], axis = 1).drop('reason', axis = 1)"
   ]
  },
  {
   "cell_type": "markdown",
   "metadata": {},
   "source": [
    "Add the response column to the two dataframes."
   ]
  },
  {
   "cell_type": "code",
   "execution_count": 13,
   "metadata": {},
   "outputs": [],
   "source": [
    "approved['approved'] = 1\n",
    "rejected['approved'] = 0"
   ]
  },
  {
   "cell_type": "markdown",
   "metadata": {},
   "source": [
    "Convert the two dataframes to numpy arrays."
   ]
  },
  {
   "cell_type": "code",
   "execution_count": 14,
   "metadata": {},
   "outputs": [],
   "source": [
    "data_pos = approved.drop(['zip3', 'state'], axis = 1).values\n",
    "data_neg = rejected.drop(['zip3', 'state'], axis = 1).values"
   ]
  },
  {
   "cell_type": "code",
   "execution_count": 169,
   "metadata": {},
   "outputs": [],
   "source": [
    "test_ratio = 0.2\n",
    "train_data, test_data = split_train_test(data_pos, data_neg, test_ratio)"
   ]
  },
  {
   "cell_type": "code",
   "execution_count": 170,
   "metadata": {},
   "outputs": [],
   "source": [
    "X_train, y_train = train_data[:, :-1], train_data[:, -1]\n",
    "X_test, y_test = test_data[:, :-1], test_data[:, -1]"
   ]
  },
  {
   "cell_type": "markdown",
   "metadata": {},
   "source": [
    "### [Question 1] Build Logistic Regression Models and Naive Bayes Models"
   ]
  },
  {
   "cell_type": "markdown",
   "metadata": {},
   "source": [
    "Build the two basic classification models"
   ]
  },
  {
   "cell_type": "code",
   "execution_count": 171,
   "metadata": {},
   "outputs": [],
   "source": [
    "beta = 0.5\n",
    "reason_of_beta = \"\"\"Approve applicants who should be rejected means at the risk of lossing principal,\n",
    "while reject applicants who can be approved means the loss of interest of principal.\n",
    "The cost of lossing interest gain is far less than lossing principal, \n",
    "thus Precision is supposed to be more important in this scenario. \n",
    "Choose Beta equals to 0.5 give more weight to Precision.\"\"\""
   ]
  },
  {
   "cell_type": "markdown",
   "metadata": {},
   "source": [
    "- Logistic Regression Model"
   ]
  },
  {
   "cell_type": "code",
   "execution_count": 172,
   "metadata": {},
   "outputs": [],
   "source": [
    "C = 1\n",
    "logistic_model = linear_model.LogisticRegression(C=C)"
   ]
  },
  {
   "cell_type": "code",
   "execution_count": 173,
   "metadata": {},
   "outputs": [
    {
     "name": "stdout",
     "output_type": "stream",
     "text": [
      "Finish fit model, now going to predict proba...\n",
      "Finished.  Now going to find threshold maximize fbeta...\n",
      "Finished, now going to get precision and recall...\n",
      "Finished, now going to get ROC AUC...\n",
      "Done!\n"
     ]
    },
    {
     "data": {
      "image/png": "[encoded data removed]",
      "text/plain": [
       "<Figure size 432x288 with 3 Axes>"
      ]
     },
     "metadata": {
      "needs_background": "light"
     },
     "output_type": "display_data"
    }
   ],
   "source": [
    "logistic_model_res = fit_and_evaluations(logistic_model, X_train, y_train, X_test, y_test, beta=beta, graph=True)"
   ]
  },
  {
   "cell_type": "markdown",
   "metadata": {},
   "source": [
    "- Naive Bayes Models"
   ]
  },
  {
   "cell_type": "code",
   "execution_count": 175,
   "metadata": {},
   "outputs": [],
   "source": [
    "bayes_model = naive_bayes.GaussianNB()"
   ]
  },
  {
   "cell_type": "code",
   "execution_count": 176,
   "metadata": {},
   "outputs": [
    {
     "name": "stdout",
     "output_type": "stream",
     "text": [
      "Finish fit model, now going to predict proba...\n",
      "Finished.  Now going to find threshold maximize fbeta...\n",
      "Finished, now going to get precision and recall...\n",
      "Finished, now going to get ROC AUC...\n",
      "Done!\n"
     ]
    },
    {
     "data": {
      "image/png": "[encoded data removed]",
      "text/plain": [
       "<Figure size 432x288 with 3 Axes>"
      ]
     },
     "metadata": {
      "needs_background": "light"
     },
     "output_type": "display_data"
    }
   ],
   "source": [
    "bayes_model_res = fit_and_evaluations(bayes_model, X_train, y_train, X_test, y_test, beta=beta, graph=True)"
   ]
  },
  {
   "cell_type": "markdown",
   "metadata": {},
   "source": [
    "#### Results"
   ]
  },
  {
   "cell_type": "code",
   "execution_count": 178,
   "metadata": {},
   "outputs": [
    {
     "name": "stdout",
     "output_type": "stream",
     "text": [
      "Choose beta = 0.5\n",
      "Reason:  Approve applicants who should be rejected means at the risk of lossing principal,\n",
      "while reject applicants who can be approved means the loss of interest of principal.\n",
      "The cost of lossing interest gain is far less than lossing principal, \n",
      "thus Precision is supposed to be more important in this scenario. \n",
      "Choose Beta equals to 0.5 give more weight to Precision.\n"
     ]
    },
    {
     "data": {
      "text/html": [
       "<div>\n",
       "<style scoped>\n",
       "    .dataframe tbody tr th:only-of-type {\n",
       "        vertical-align: middle;\n",
       "    }\n",
       "\n",
       "    .dataframe tbody tr th {\n",
       "        vertical-align: top;\n",
       "    }\n",
       "\n",
       "    .dataframe thead th {\n",
       "        text-align: right;\n",
       "    }\n",
       "</style>\n",
       "<table border=\"1\" class=\"dataframe\">\n",
       "  <thead>\n",
       "    <tr style=\"text-align: right;\">\n",
       "      <th></th>\n",
       "      <th>Logistic Regression with C = 1</th>\n",
       "      <th>Naive Bayes</th>\n",
       "    </tr>\n",
       "  </thead>\n",
       "  <tbody>\n",
       "    <tr>\n",
       "      <th>Chosen beta</th>\n",
       "      <td>0.5000</td>\n",
       "      <td>0.5000</td>\n",
       "    </tr>\n",
       "    <tr>\n",
       "      <th>Precision</th>\n",
       "      <td>0.6817</td>\n",
       "      <td>0.6855</td>\n",
       "    </tr>\n",
       "    <tr>\n",
       "      <th>Recall</th>\n",
       "      <td>0.4180</td>\n",
       "      <td>0.4874</td>\n",
       "    </tr>\n",
       "    <tr>\n",
       "      <th>$F_{beta}$</th>\n",
       "      <td>0.7845</td>\n",
       "      <td>0.8005</td>\n",
       "    </tr>\n",
       "    <tr>\n",
       "      <th>AUC under ROC</th>\n",
       "      <td>0.8132</td>\n",
       "      <td>0.8438</td>\n",
       "    </tr>\n",
       "  </tbody>\n",
       "</table>\n",
       "</div>"
      ],
      "text/plain": [
       "               Logistic Regression with C = 1  Naive Bayes\n",
       "Chosen beta                            0.5000       0.5000\n",
       "Precision                              0.6817       0.6855\n",
       "Recall                                 0.4180       0.4874\n",
       "$F_{beta}$                             0.7845       0.8005\n",
       "AUC under ROC                          0.8132       0.8438"
      ]
     },
     "execution_count": 178,
     "metadata": {},
     "output_type": "execute_result"
    }
   ],
   "source": [
    "# results\n",
    "print(f\"Choose beta = {beta}\")\n",
    "print(\"Reason: \", reason_of_beta)\n",
    "\n",
    "info_dict = {f\"Logistic Regression with C = {C}\": np.append([beta], logistic_model_res),\n",
    "            \"Naive Bayes\": np.append([beta],bayes_model_res)}\n",
    "\n",
    "res_pd = pd.DataFrame(info_dict, index = [\"Chosen beta\", \"Precision\", \"Recall\", \"$F_{beta}$\", \"AUC under ROC\"])\n",
    "res_pd"
   ]
  },
  {
   "cell_type": "markdown",
   "metadata": {},
   "source": [
    "### [Question 2] Build Classification Models over GMM"
   ]
  },
  {
   "cell_type": "markdown",
   "metadata": {},
   "source": [
    "Build GMM models + classification models"
   ]
  },
  {
   "cell_type": "code",
   "execution_count": 40,
   "metadata": {},
   "outputs": [],
   "source": [
    "C = 1\n",
    "beta = 0.5\n",
    "logit = linear_model.LogisticRegression(C=C)\n",
    "bayes = naive_bayes.GaussianNB()\n",
    "base_models = [logit, bayes]"
   ]
  },
  {
   "cell_type": "markdown",
   "metadata": {},
   "source": [
    "- 5 Clusters & Classifiers"
   ]
  },
  {
   "cell_type": "code",
   "execution_count": 90,
   "metadata": {},
   "outputs": [
    {
     "name": "stdout",
     "output_type": "stream",
     "text": [
      "GaussianMixtureModel created, now going to fit model...\n",
      "Finished, now going to cluster train data...\n",
      "Finished, now going to cluster test data...\n",
      "Finished, now going to train classifiers and get proba...\n",
      "******LogisticRegression(C=1)******\n",
      "Cluster0 finished!\n",
      "Cluster1 finished!\n",
      "Cluster2 finished!\n",
      "Cluster3 finished!\n",
      "Cluster4 finished!\n",
      "Now going to find threshold maximize fbeta...\n",
      "Finished, now going to get precision and recall...\n",
      "Finished, now going to get ROC AUC...\n",
      "Done!\n",
      "******GaussianNB()******\n",
      "Cluster0 finished!\n",
      "Cluster1 finished!\n",
      "Cluster2 finished!\n",
      "Cluster3 finished!\n",
      "Cluster4 finished!\n",
      "Now going to find threshold maximize fbeta...\n",
      "Finished, now going to get precision and recall...\n",
      "Finished, now going to get ROC AUC...\n",
      "Done!\n"
     ]
    }
   ],
   "source": [
    "max_iter_5 = 30\n",
    "n_init_5 = 10\n",
    "cluster_n = 5\n",
    "clusters_5_res = GMM_classifier_evaluations(cluster_n, max_iter_5, n_init_5, \n",
    "                                            X_train, y_train, X_test, y_test, base_models, beta, graph=False)"
   ]
  },
  {
   "cell_type": "code",
   "execution_count": 91,
   "metadata": {},
   "outputs": [
    {
     "data": {
      "text/plain": [
       "{'LogisticRegression(C=1)': [0.6975, 0.3858, 0.7814, 0.8433],\n",
       " 'GaussianNB()': [0.6887, 0.4749, 0.7991, 0.8559]}"
      ]
     },
     "execution_count": 91,
     "metadata": {},
     "output_type": "execute_result"
    }
   ],
   "source": [
    "clusters_5_res"
   ]
  },
  {
   "cell_type": "markdown",
   "metadata": {},
   "source": [
    "- 10 Clusters & Classifiers"
   ]
  },
  {
   "cell_type": "code",
   "execution_count": 224,
   "metadata": {},
   "outputs": [
    {
     "name": "stdout",
     "output_type": "stream",
     "text": [
      "GaussianMixtureModel created, now going to fit model...\n",
      "Finished, now going to cluster train data...\n",
      "Finished, now going to cluster test data...\n",
      "Finished, now going to train classifiers and get proba...\n",
      "******LogisticRegression(C=1)******\n",
      "Cluster0 finished!\n",
      "Cluster1 finished!\n",
      "Same Labels in Cluster2, skip.\n",
      "Cluster3 finished!\n",
      "Cluster4 finished!\n",
      "Cluster5 finished!\n",
      "Same Labels in Cluster6, skip.\n",
      "Same Labels in Cluster7, skip.\n",
      "Cluster8 finished!\n",
      "Cluster9 finished!\n",
      "Now going to find threshold maximize fbeta...\n",
      "Finished, now going to get precision and recall...\n",
      "Finished, now going to get ROC AUC...\n",
      "Done!\n",
      "******GaussianNB()******\n",
      "Cluster0 finished!\n",
      "Cluster1 finished!\n",
      "Same Labels in Cluster2, skip.\n",
      "Cluster3 finished!\n",
      "Cluster4 finished!\n",
      "Cluster5 finished!\n",
      "Same Labels in Cluster6, skip.\n",
      "Same Labels in Cluster7, skip.\n",
      "Cluster8 finished!\n",
      "Cluster9 finished!\n",
      "Now going to find threshold maximize fbeta...\n",
      "Finished, now going to get precision and recall...\n",
      "Finished, now going to get ROC AUC...\n",
      "Done!\n"
     ]
    }
   ],
   "source": [
    "max_iter_10 = 30\n",
    "n_init_10 = 30\n",
    "cluster_n = 10\n",
    "clusters_10_res = GMM_classifier_evaluations(cluster_n, max_iter_10, n_init_10, \n",
    "                                             X_train, y_train, X_test, y_test, base_models, beta, graph=False)"
   ]
  },
  {
   "cell_type": "code",
   "execution_count": 226,
   "metadata": {},
   "outputs": [
    {
     "data": {
      "text/plain": [
       "{'LogisticRegression(C=1)': [0.6877, 0.4683, 0.7974, 0.8564],\n",
       " 'GaussianNB()': [0.6877, 0.4653, 0.7968, 0.8565]}"
      ]
     },
     "execution_count": 226,
     "metadata": {},
     "output_type": "execute_result"
    }
   ],
   "source": [
    "clusters_10_res"
   ]
  },
  {
   "cell_type": "markdown",
   "metadata": {},
   "source": [
    "- 20 Clusters & Classifiers"
   ]
  },
  {
   "cell_type": "code",
   "execution_count": 228,
   "metadata": {},
   "outputs": [
    {
     "name": "stdout",
     "output_type": "stream",
     "text": [
      "GaussianMixtureModel created, now going to fit model...\n",
      "Finished, now going to cluster train data...\n",
      "Finished, now going to cluster test data...\n",
      "Finished, now going to train classifiers and get proba...\n",
      "******LogisticRegression(C=1)******\n",
      "Cluster0 finished!\n",
      "Cluster1 finished!\n",
      "Same Labels in Cluster2, skip.\n",
      "Same Labels in Cluster3, skip.\n",
      "Cluster4 finished!\n",
      "Cluster5 finished!\n",
      "Cluster6 finished!\n",
      "Same Labels in Cluster7, skip.\n",
      "Same Labels in Cluster8, skip.\n",
      "Cluster9 finished!\n",
      "Cluster10 finished!\n",
      "Cluster11 finished!\n",
      "Cluster12 finished!\n",
      "Same Labels in Cluster13, skip.\n",
      "Cluster14 finished!\n",
      "Same Labels in Cluster15, skip.\n",
      "Cluster16 finished!\n",
      "Cluster17 finished!\n",
      "Cluster18 finished!\n",
      "Cluster19 finished!\n",
      "Now going to find threshold maximize fbeta...\n",
      "Finished, now going to get precision and recall...\n",
      "Finished, now going to get ROC AUC...\n",
      "Done!\n",
      "******GaussianNB()******\n",
      "Cluster0 finished!\n",
      "Cluster1 finished!\n",
      "Same Labels in Cluster2, skip.\n",
      "Same Labels in Cluster3, skip.\n",
      "Cluster4 finished!\n",
      "Cluster5 finished!\n",
      "Cluster6 finished!\n",
      "Same Labels in Cluster7, skip.\n",
      "Same Labels in Cluster8, skip.\n",
      "Cluster9 finished!\n",
      "Cluster10 finished!\n",
      "Cluster11 finished!\n",
      "Cluster12 finished!\n",
      "Same Labels in Cluster13, skip.\n",
      "Cluster14 finished!\n",
      "Same Labels in Cluster15, skip.\n",
      "Cluster16 finished!\n",
      "Cluster17 finished!\n",
      "Cluster18 finished!\n",
      "Cluster19 finished!\n",
      "Now going to find threshold maximize fbeta...\n",
      "Finished, now going to get precision and recall...\n",
      "Finished, now going to get ROC AUC...\n",
      "Done!\n"
     ]
    }
   ],
   "source": [
    "# 20 Clusters & Classifiers\n",
    "max_iter_20 = 50\n",
    "n_init_20 = 50\n",
    "cluster_n = 20\n",
    "clusters_20_res = GMM_classifier_evaluations(cluster_n, max_iter_20, n_init_20, \n",
    "                                             X_train, y_train, X_test, y_test, base_models, beta, graph=False)"
   ]
  },
  {
   "cell_type": "code",
   "execution_count": 229,
   "metadata": {},
   "outputs": [
    {
     "data": {
      "text/plain": [
       "{'LogisticRegression(C=1)': [0.6997, 0.3845, 0.7817, 0.8519],\n",
       " 'GaussianNB()': [0.6857, 0.4585, 0.7948, 0.8627]}"
      ]
     },
     "execution_count": 229,
     "metadata": {},
     "output_type": "execute_result"
    }
   ],
   "source": [
    "clusters_20_res"
   ]
  },
  {
   "cell_type": "markdown",
   "metadata": {},
   "source": [
    "#### Results"
   ]
  },
  {
   "cell_type": "code",
   "execution_count": 230,
   "metadata": {},
   "outputs": [
    {
     "data": {
      "text/html": [
       "<div>\n",
       "<style scoped>\n",
       "    .dataframe tbody tr th:only-of-type {\n",
       "        vertical-align: middle;\n",
       "    }\n",
       "\n",
       "    .dataframe tbody tr th {\n",
       "        vertical-align: top;\n",
       "    }\n",
       "\n",
       "    .dataframe thead th {\n",
       "        text-align: right;\n",
       "    }\n",
       "</style>\n",
       "<table border=\"1\" class=\"dataframe\">\n",
       "  <thead>\n",
       "    <tr style=\"text-align: right;\">\n",
       "      <th></th>\n",
       "      <th></th>\n",
       "      <th>Logistic Regression with C = 1</th>\n",
       "      <th>Naive Bayes</th>\n",
       "    </tr>\n",
       "    <tr>\n",
       "      <th></th>\n",
       "      <th></th>\n",
       "      <th></th>\n",
       "      <th></th>\n",
       "    </tr>\n",
       "  </thead>\n",
       "  <tbody>\n",
       "    <tr>\n",
       "      <th rowspan=\"4\" valign=\"top\">5 clusters</th>\n",
       "      <th>Precision</th>\n",
       "      <td>0.6975</td>\n",
       "      <td>0.6887</td>\n",
       "    </tr>\n",
       "    <tr>\n",
       "      <th>Recall</th>\n",
       "      <td>0.3858</td>\n",
       "      <td>0.4749</td>\n",
       "    </tr>\n",
       "    <tr>\n",
       "      <th>$F_{beta}$</th>\n",
       "      <td>0.7814</td>\n",
       "      <td>0.7991</td>\n",
       "    </tr>\n",
       "    <tr>\n",
       "      <th>AUC under ROC</th>\n",
       "      <td>0.8433</td>\n",
       "      <td>0.8559</td>\n",
       "    </tr>\n",
       "    <tr>\n",
       "      <th rowspan=\"4\" valign=\"top\">10 clusters</th>\n",
       "      <th>Precision</th>\n",
       "      <td>0.6877</td>\n",
       "      <td>0.6877</td>\n",
       "    </tr>\n",
       "    <tr>\n",
       "      <th>Recall</th>\n",
       "      <td>0.4683</td>\n",
       "      <td>0.4653</td>\n",
       "    </tr>\n",
       "    <tr>\n",
       "      <th>$F_{beta}$</th>\n",
       "      <td>0.7974</td>\n",
       "      <td>0.7968</td>\n",
       "    </tr>\n",
       "    <tr>\n",
       "      <th>AUC under ROC</th>\n",
       "      <td>0.8564</td>\n",
       "      <td>0.8565</td>\n",
       "    </tr>\n",
       "    <tr>\n",
       "      <th rowspan=\"4\" valign=\"top\">20 clusters</th>\n",
       "      <th>Precision</th>\n",
       "      <td>0.6997</td>\n",
       "      <td>0.6857</td>\n",
       "    </tr>\n",
       "    <tr>\n",
       "      <th>Recall</th>\n",
       "      <td>0.3845</td>\n",
       "      <td>0.4585</td>\n",
       "    </tr>\n",
       "    <tr>\n",
       "      <th>$F_{beta}$</th>\n",
       "      <td>0.7817</td>\n",
       "      <td>0.7948</td>\n",
       "    </tr>\n",
       "    <tr>\n",
       "      <th>AUC under ROC</th>\n",
       "      <td>0.8519</td>\n",
       "      <td>0.8627</td>\n",
       "    </tr>\n",
       "  </tbody>\n",
       "</table>\n",
       "</div>"
      ],
      "text/plain": [
       "                           Logistic Regression with C = 1  Naive Bayes\n",
       "                                                                      \n",
       "5 clusters  Precision                              0.6975       0.6887\n",
       "            Recall                                 0.3858       0.4749\n",
       "            $F_{beta}$                             0.7814       0.7991\n",
       "            AUC under ROC                          0.8433       0.8559\n",
       "10 clusters Precision                              0.6877       0.6877\n",
       "            Recall                                 0.4683       0.4653\n",
       "            $F_{beta}$                             0.7974       0.7968\n",
       "            AUC under ROC                          0.8564       0.8565\n",
       "20 clusters Precision                              0.6997       0.6857\n",
       "            Recall                                 0.3845       0.4585\n",
       "            $F_{beta}$                             0.7817       0.7948\n",
       "            AUC under ROC                          0.8519       0.8627"
      ]
     },
     "execution_count": 230,
     "metadata": {},
     "output_type": "execute_result"
    }
   ],
   "source": [
    "# results\n",
    "info2_dict = {f\"Logistic Regression with C = {C}\": np.array([c[\"LogisticRegression(C=1)\"] for c in [clusters_5_res,clusters_10_res,clusters_20_res]]).flatten(),\n",
    "            \"Naive Bayes\": np.array([c[\"GaussianNB()\"] for c in [clusters_5_res,clusters_10_res,clusters_20_res]]).flatten()}\n",
    "\n",
    "res_pd = pd.DataFrame(info2_dict)\n",
    "res_pd[\"Cluster_n\"] = np.array([[f\"{i} clusters\"]*4 for i in [5, 10, 20]]).flatten()\n",
    "res_pd[\"Evaluations\"] = [\"Precision\", \"Recall\", \"$F_{beta}$\", \"AUC under ROC\"]*3\n",
    "\n",
    "res_pd.set_index(['Cluster_n', \"Evaluations\"], inplace=True)\n",
    "res_pd.index.names = [' ', ' ']\n",
    "res_pd"
   ]
  },
  {
   "cell_type": "markdown",
   "metadata": {},
   "source": [
    "### [Question 3] Build Ensemble Models"
   ]
  },
  {
   "cell_type": "markdown",
   "metadata": {},
   "source": [
    "Build your Ensemble Models for this part"
   ]
  },
  {
   "cell_type": "markdown",
   "metadata": {},
   "source": [
    "- bagging"
   ]
  },
  {
   "cell_type": "code",
   "execution_count": 198,
   "metadata": {},
   "outputs": [],
   "source": [
    "C = 1\n",
    "bag_cls = ensemble.BaggingClassifier(RandomForestClassifier(),\n",
    "                                    n_estimators=10, max_samples=100, bootstrap=True, n_jobs=-1,\n",
    "                                    random_state=2021)"
   ]
  },
  {
   "cell_type": "code",
   "execution_count": 199,
   "metadata": {},
   "outputs": [
    {
     "name": "stdout",
     "output_type": "stream",
     "text": [
      "Finish fit model, now going to predict proba...\n",
      "Finished.  Now going to find threshold maximize fbeta...\n",
      "Finished, now going to get precision and recall...\n",
      "Finished, now going to get ROC AUC...\n",
      "Done!\n"
     ]
    },
    {
     "data": {
      "image/png": "[encoded data removed]",
      "text/plain": [
       "<Figure size 432x288 with 3 Axes>"
      ]
     },
     "metadata": {
      "needs_background": "light"
     },
     "output_type": "display_data"
    }
   ],
   "source": [
    "bag_cls_res = fit_and_evaluations(bag_cls, X_train, y_train, X_test, y_test, beta=beta, graph=True)"
   ]
  },
  {
   "cell_type": "markdown",
   "metadata": {},
   "source": [
    "- boosting"
   ]
  },
  {
   "cell_type": "code",
   "execution_count": 196,
   "metadata": {},
   "outputs": [],
   "source": [
    "C = 1\n",
    "bos_cls = ensemble.AdaBoostClassifier(RandomForestClassifier(n_estimators=30),\n",
    "                                    n_estimators=5, learning_rate=0.8, algorithm=\"SAMME.R\",\n",
    "                                    random_state=2021)"
   ]
  },
  {
   "cell_type": "code",
   "execution_count": 181,
   "metadata": {},
   "outputs": [
    {
     "name": "stdout",
     "output_type": "stream",
     "text": [
      "Finish fit model, now going to predict proba...\n",
      "Finished.  Now going to find threshold maximize fbeta...\n",
      "Finished, now going to get precision and recall...\n",
      "Finished, now going to get ROC AUC...\n",
      "Done!\n"
     ]
    },
    {
     "data": {
      "image/png": "[encoded data removed]",
      "text/plain": [
       "<Figure size 432x288 with 3 Axes>"
      ]
     },
     "metadata": {
      "needs_background": "light"
     },
     "output_type": "display_data"
    }
   ],
   "source": [
    "bos_cls_res = fit_and_evaluations(bos_cls, X_train, y_train, X_test, y_test, beta=beta, graph=True)"
   ]
  },
  {
   "cell_type": "markdown",
   "metadata": {},
   "source": [
    "- stacking"
   ]
  },
  {
   "cell_type": "code",
   "execution_count": 132,
   "metadata": {},
   "outputs": [],
   "source": [
    "C = 1\n",
    "stk_cls = ensemble.StackingClassifier([('rf', RandomForestClassifier()),\n",
    "                                      ('nb', naive_bayes.GaussianNB()),\n",
    "                                      ('lg', linear_model.LogisticRegression(C=C))],\n",
    "                                      final_estimator = linear_model.LogisticRegression(C=C),\n",
    "                                      cv=3, stack_method=\"predict_proba\", n_jobs=-1)"
   ]
  },
  {
   "cell_type": "code",
   "execution_count": 126,
   "metadata": {},
   "outputs": [
    {
     "name": "stdout",
     "output_type": "stream",
     "text": [
      "Finish fit model, now going to predict proba...\n",
      "Finished.  Now going to find threshold maximize fbeta...\n",
      "Finished, now going to get precision and recall...\n",
      "Finished, now going to get ROC AUC...\n",
      "Done!\n"
     ]
    },
    {
     "data": {
      "image/png": "[encoded data removed]",
      "text/plain": [
       "<Figure size 432x288 with 3 Axes>"
      ]
     },
     "metadata": {
      "needs_background": "light"
     },
     "output_type": "display_data"
    }
   ],
   "source": [
    "stk_cls_res = fit_and_evaluations(stk_cls, X_train, y_train, X_test, y_test, beta=beta, graph=True)"
   ]
  },
  {
   "cell_type": "markdown",
   "metadata": {},
   "source": [
    "#### Results"
   ]
  },
  {
   "cell_type": "code",
   "execution_count": 200,
   "metadata": {},
   "outputs": [],
   "source": [
    "info3_dict = {\"Bagging\": np.append([\"RandomForestClassifier\", \"n_estimators=10, max_samples=100, bootstrap=True, n_jobs=-1,\\\n",
    "                                    random_state=2021\"], bag_cls_res),\n",
    "             \"Boosting\": np.append([\"RandomForestClassifier(n_estimators=30)\", \"n_estimators=5, learning_rate=0.8, algorithm='SAMME.R',\\\n",
    "                                    random_state=2021\"], bos_cls_res),\n",
    "             \"Stacking\": np.append([\"RandomForestClassifier, GaussianNB, LogisticRegression\",\n",
    "                                      \"final_estimator = linear_model.LogisticRegression(C=1), \\\n",
    "                                      cv=3, stack_method='predict_proba', n_jobs=-1\"], stk_cls_res)}\n",
    "\n",
    "inx = [\"Base classifiers\", \"Parameter settings\", \"Precision\", \"Recall\", \"$F_{beta}$\", \"AUC\"]"
   ]
  },
  {
   "cell_type": "code",
   "execution_count": 201,
   "metadata": {},
   "outputs": [
    {
     "data": {
      "text/html": [
       "<div>\n",
       "<style scoped>\n",
       "    .dataframe tbody tr th:only-of-type {\n",
       "        vertical-align: middle;\n",
       "    }\n",
       "\n",
       "    .dataframe tbody tr th {\n",
       "        vertical-align: top;\n",
       "    }\n",
       "\n",
       "    .dataframe thead th {\n",
       "        text-align: right;\n",
       "    }\n",
       "</style>\n",
       "<table border=\"1\" class=\"dataframe\">\n",
       "  <thead>\n",
       "    <tr style=\"text-align: right;\">\n",
       "      <th></th>\n",
       "      <th>Bagging</th>\n",
       "      <th>Boosting</th>\n",
       "      <th>Stacking</th>\n",
       "    </tr>\n",
       "  </thead>\n",
       "  <tbody>\n",
       "    <tr>\n",
       "      <th>Base classifiers</th>\n",
       "      <td>RandomForestClassifier</td>\n",
       "      <td>RandomForestClassifier(n_estimators=30)</td>\n",
       "      <td>RandomForestClassifier, GaussianNB, LogisticRegression</td>\n",
       "    </tr>\n",
       "    <tr>\n",
       "      <th>Parameter settings</th>\n",
       "      <td>n_estimators=10, max_samples=100, bootstrap=True, n_jobs=-1,                                    random_state=2021</td>\n",
       "      <td>n_estimators=5, learning_rate=0.8, algorithm='SAMME.R',                                    random_state=2021</td>\n",
       "      <td>final_estimator = linear_model.LogisticRegression(C=C),                                       cv=3, stack_method='predict_proba', n_jobs=-1</td>\n",
       "    </tr>\n",
       "    <tr>\n",
       "      <th>Precision</th>\n",
       "      <td>0.6842</td>\n",
       "      <td>0.7483</td>\n",
       "      <td>0.7327</td>\n",
       "    </tr>\n",
       "    <tr>\n",
       "      <th>Recall</th>\n",
       "      <td>0.4822</td>\n",
       "      <td>0.5184</td>\n",
       "      <td>0.582</td>\n",
       "    </tr>\n",
       "    <tr>\n",
       "      <th>$F_{beta}$</th>\n",
       "      <td>0.799</td>\n",
       "      <td>0.8285</td>\n",
       "      <td>0.8346</td>\n",
       "    </tr>\n",
       "    <tr>\n",
       "      <th>AUC</th>\n",
       "      <td>0.9196</td>\n",
       "      <td>0.914</td>\n",
       "      <td>0.9234</td>\n",
       "    </tr>\n",
       "  </tbody>\n",
       "</table>\n",
       "</div>"
      ],
      "text/plain": [
       "                                                                                                                              Bagging  \\\n",
       "Base classifiers                                                                                               RandomForestClassifier   \n",
       "Parameter settings  n_estimators=10, max_samples=100, bootstrap=True, n_jobs=-1,                                    random_state=2021   \n",
       "Precision                                                                                                                      0.6842   \n",
       "Recall                                                                                                                         0.4822   \n",
       "$F_{beta}$                                                                                                                      0.799   \n",
       "AUC                                                                                                                            0.9196   \n",
       "\n",
       "                                                                                                                        Boosting  \\\n",
       "Base classifiers                                                                         RandomForestClassifier(n_estimators=30)   \n",
       "Parameter settings  n_estimators=5, learning_rate=0.8, algorithm='SAMME.R',                                    random_state=2021   \n",
       "Precision                                                                                                                 0.7483   \n",
       "Recall                                                                                                                    0.5184   \n",
       "$F_{beta}$                                                                                                                0.8285   \n",
       "AUC                                                                                                                        0.914   \n",
       "\n",
       "                                                                                                                                                       Stacking  \n",
       "Base classifiers                                                                                         RandomForestClassifier, GaussianNB, LogisticRegression  \n",
       "Parameter settings  final_estimator = linear_model.LogisticRegression(C=C),                                       cv=3, stack_method='predict_proba', n_jobs=-1  \n",
       "Precision                                                                                                                                                0.7327  \n",
       "Recall                                                                                                                                                    0.582  \n",
       "$F_{beta}$                                                                                                                                               0.8346  \n",
       "AUC                                                                                                                                                      0.9234  "
      ]
     },
     "execution_count": 201,
     "metadata": {},
     "output_type": "execute_result"
    }
   ],
   "source": [
    "# result\n",
    "pd.set_option('display.max_colwidth', None)\n",
    "res3_pd = pd.DataFrame(info3_dict, index = inx)\n",
    "res3_pd"
   ]
  },
  {
   "cell_type": "code",
   "execution_count": null,
   "metadata": {},
   "outputs": [],
   "source": [
    "comments_3 = \"\"\"From the table above, these three models' performance are good. \\\n",
    "Stacking depict best performance among these three models in terms of AUC.\n",
    "Boosting takes more time to trian with the same parameter settings. \n",
    "Computing power's limitations make training boosting can only on low parameters, \\\n",
    "which can shorten the training time, but Boosting's best performance can't be presented. \n",
    "When reducing bagging N_ESTIMATORS parameter number, the result is not good as boosting.\n",
    "Boosting is supposed to be a better choice without the limitation of computing power.\"\"\""
   ]
  },
  {
   "cell_type": "markdown",
   "metadata": {},
   "source": [
    "### [Question 4] Build Ensemble Models with External Data"
   ]
  },
  {
   "cell_type": "markdown",
   "metadata": {},
   "source": [
    "getting external data<br/>\n",
    "https://www.irs.gov/pub/irs-soi/16zpallagi.csv<br/>\n",
    "more details:<br/>\n",
    "https://www.irs.gov/statistics/soi-tax-stats-individual-income-tax-statistics-2016-zip-code-data-soi"
   ]
  },
  {
   "cell_type": "code",
   "execution_count": 202,
   "metadata": {},
   "outputs": [],
   "source": [
    "f = open('16zpallagi.csv', 'r')\n",
    "f.readline()\n",
    "count = {}\n",
    "for l in f.readlines():\n",
    "    s = l.split(',')\n",
    "    if s[2] == '0':\n",
    "        count[s[1], int(s[3])] = int(s[4])\n",
    "    else:\n",
    "        count['%05d' % int(s[2]), int(s[3])] = int(s[4])\n",
    "agg_count = {}\n",
    "for k, v in count.items():\n",
    "    if k[0][:3] not in agg_count:\n",
    "        agg_count[k[0][:3]] = [0] * 7\n",
    "    agg_count[k[0][:3]][k[1]] += v\n",
    "f.close()"
   ]
  },
  {
   "cell_type": "code",
   "execution_count": 203,
   "metadata": {},
   "outputs": [],
   "source": [
    "# Assume incomes bracketed are [12500, 37500, 62500, 87500, 150000, 400000]\n",
    "# 1 = $1 under $25,000\n",
    "# 2 = $25,000 under $50,000\n",
    "# 3 = $50,000 under $75,000\n",
    "# 4 = $75,000 under $100,000\n",
    "# 5 = $100,000 under $200,000\n",
    "# 6 = $200,000 or more\n",
    "\n",
    "bracket_income = [0, 12500, 37500, 62500, 87500, 150000, 400000]\n",
    "estimated_zip_income = {}\n",
    "for k, v in agg_count.items():\n",
    "    sumn, sumd = 0, 0\n",
    "    for i in range(1, 7):\n",
    "        sumn += bracket_income[i] * v[i]\n",
    "        sumd += v[i]\n",
    "    estimated_zip_income[k] = sumn / sumd"
   ]
  },
  {
   "cell_type": "code",
   "execution_count": 204,
   "metadata": {},
   "outputs": [],
   "source": [
    "approved.insert(4, 'estimated_income', approved[['zip3', 'state']].apply(lambda x: estimated_zip_income[x[0]] if x[0] in estimated_zip_income else estimated_zip_income[x[1]] if x[1] in estimated_zip_income else 0, axis = 1))\n",
    "rejected.insert(4, 'estimated_income', rejected[['zip3', 'state']].apply(lambda x: estimated_zip_income[x[0]] if x[0] in estimated_zip_income else estimated_zip_income[x[1]] if x[1] in estimated_zip_income else 0, axis = 1))\n",
    "data_pos = approved.drop(['zip3', 'state'], axis = 1).values\n",
    "data_neg = rejected.drop(['zip3', 'state'], axis = 1).values"
   ]
  },
  {
   "cell_type": "code",
   "execution_count": 205,
   "metadata": {},
   "outputs": [],
   "source": [
    "test_ratio = 0.2\n",
    "train_data_new, test_data_new = split_train_test(data_pos, data_neg, test_ratio)"
   ]
  },
  {
   "cell_type": "code",
   "execution_count": 206,
   "metadata": {},
   "outputs": [],
   "source": [
    "X_train_new, y_train_new = train_data_new[:, :-1], train_data_new[:, -1]\n",
    "X_test_new, y_test_new = test_data_new[:, :-1], test_data_new[:, -1]"
   ]
  },
  {
   "cell_type": "markdown",
   "metadata": {},
   "source": [
    "- bagging"
   ]
  },
  {
   "cell_type": "code",
   "execution_count": 214,
   "metadata": {},
   "outputs": [],
   "source": [
    "C = 1\n",
    "bag_cls4 = ensemble.BaggingClassifier(RandomForestClassifier(),\n",
    "                                    n_estimators=10, max_samples=100, bootstrap=True, n_jobs=-1,\n",
    "                                    random_state=2021)"
   ]
  },
  {
   "cell_type": "code",
   "execution_count": 215,
   "metadata": {},
   "outputs": [
    {
     "name": "stdout",
     "output_type": "stream",
     "text": [
      "Finish fit model, now going to predict proba...\n",
      "Finished.  Now going to find threshold maximize fbeta...\n",
      "Finished, now going to get precision and recall...\n",
      "Finished, now going to get ROC AUC...\n",
      "Done!\n"
     ]
    },
    {
     "data": {
      "image/png": "[encoded data removed]",
      "text/plain": [
       "<Figure size 432x288 with 3 Axes>"
      ]
     },
     "metadata": {
      "needs_background": "light"
     },
     "output_type": "display_data"
    }
   ],
   "source": [
    "bag_cls_res4 = fit_and_evaluations(bag_cls4, X_train_new, y_train_new, X_test_new, y_test_new, \n",
    "                                   beta=beta, graph=True)"
   ]
  },
  {
   "cell_type": "markdown",
   "metadata": {},
   "source": [
    "- boosting"
   ]
  },
  {
   "cell_type": "code",
   "execution_count": 216,
   "metadata": {},
   "outputs": [],
   "source": [
    "C = 1\n",
    "bos_cls4 = ensemble.AdaBoostClassifier(RandomForestClassifier(n_estimators=30),\n",
    "                                    n_estimators=5, learning_rate=0.8, algorithm=\"SAMME.R\",\n",
    "                                    random_state=2021)"
   ]
  },
  {
   "cell_type": "code",
   "execution_count": 217,
   "metadata": {},
   "outputs": [
    {
     "name": "stdout",
     "output_type": "stream",
     "text": [
      "Finish fit model, now going to predict proba...\n",
      "Finished.  Now going to find threshold maximize fbeta...\n",
      "Finished, now going to get precision and recall...\n",
      "Finished, now going to get ROC AUC...\n",
      "Done!\n"
     ]
    },
    {
     "data": {
      "image/png": "[encoded data removed]",
      "text/plain": [
       "<Figure size 432x288 with 3 Axes>"
      ]
     },
     "metadata": {
      "needs_background": "light"
     },
     "output_type": "display_data"
    }
   ],
   "source": [
    "bos_cls_res4 = fit_and_evaluations(bos_cls4, X_train_new, y_train_new, X_test_new, y_test_new, \n",
    "                                   beta=beta, graph=True)"
   ]
  },
  {
   "cell_type": "markdown",
   "metadata": {},
   "source": [
    "- stacking"
   ]
  },
  {
   "cell_type": "code",
   "execution_count": 218,
   "metadata": {},
   "outputs": [],
   "source": [
    "C = 1\n",
    "stk_cls4 = ensemble.StackingClassifier([('rf', RandomForestClassifier()),\n",
    "                                      ('nb', naive_bayes.GaussianNB()),\n",
    "                                      ('lg', linear_model.LogisticRegression(C=C))],\n",
    "                                      final_estimator = linear_model.LogisticRegression(C=C),\n",
    "                                      cv=3, stack_method=\"predict_proba\", n_jobs=-1)"
   ]
  },
  {
   "cell_type": "code",
   "execution_count": 219,
   "metadata": {},
   "outputs": [
    {
     "name": "stdout",
     "output_type": "stream",
     "text": [
      "Finish fit model, now going to predict proba...\n",
      "Finished.  Now going to find threshold maximize fbeta...\n",
      "Finished, now going to get precision and recall...\n",
      "Finished, now going to get ROC AUC...\n",
      "Done!\n"
     ]
    },
    {
     "data": {
      "image/png": "[encoded data removed]",
      "text/plain": [
       "<Figure size 432x288 with 3 Axes>"
      ]
     },
     "metadata": {
      "needs_background": "light"
     },
     "output_type": "display_data"
    }
   ],
   "source": [
    "stk_cls_res4 = fit_and_evaluations(stk_cls4, X_train_new, y_train_new, X_test_new, y_test_new, \n",
    "                                   beta=beta, graph=True)"
   ]
  },
  {
   "cell_type": "markdown",
   "metadata": {},
   "source": [
    "#### Results"
   ]
  },
  {
   "cell_type": "code",
   "execution_count": 222,
   "metadata": {},
   "outputs": [],
   "source": [
    "info4_dict = {\"Bagging\": np.append([\"RandomForestClassifier\", \"n_estimators=10, max_samples=100, bootstrap=True, n_jobs=-1,\\\n",
    "                                    random_state=2021\"], bag_cls_res4),\n",
    "             \"Boosting\": np.append([\"RandomForestClassifier(n_estimators=30)\", \"n_estimators=5, learning_rate=0.8, algorithm='SAMME.R',\\\n",
    "                                    random_state=2021\"], bos_cls_res4),\n",
    "             \"Stacking\": np.append([\"RandomForestClassifier, GaussianNB, LogisticRegression\",\n",
    "                                      \"final_estimator = linear_model.LogisticRegression(C=1), \\\n",
    "                                      cv=3, stack_method='predict_proba', n_jobs=-1\"], stk_cls_res4)}\n",
    "\n",
    "inx = [\"Base classifiers\", \"Parameter settings\", \"Precision\", \"Recall\", \"$F_{beta}$\", \"AUC\"]"
   ]
  },
  {
   "cell_type": "code",
   "execution_count": 223,
   "metadata": {},
   "outputs": [
    {
     "data": {
      "text/html": [
       "<div>\n",
       "<style scoped>\n",
       "    .dataframe tbody tr th:only-of-type {\n",
       "        vertical-align: middle;\n",
       "    }\n",
       "\n",
       "    .dataframe tbody tr th {\n",
       "        vertical-align: top;\n",
       "    }\n",
       "\n",
       "    .dataframe thead th {\n",
       "        text-align: right;\n",
       "    }\n",
       "</style>\n",
       "<table border=\"1\" class=\"dataframe\">\n",
       "  <thead>\n",
       "    <tr style=\"text-align: right;\">\n",
       "      <th></th>\n",
       "      <th>Bagging</th>\n",
       "      <th>Boosting</th>\n",
       "      <th>Stacking</th>\n",
       "    </tr>\n",
       "  </thead>\n",
       "  <tbody>\n",
       "    <tr>\n",
       "      <th>Base classifiers</th>\n",
       "      <td>RandomForestClassifier</td>\n",
       "      <td>RandomForestClassifier(n_estimators=30)</td>\n",
       "      <td>RandomForestClassifier, GaussianNB, LogisticRegression</td>\n",
       "    </tr>\n",
       "    <tr>\n",
       "      <th>Parameter settings</th>\n",
       "      <td>n_estimators=10, max_samples=100, bootstrap=True, n_jobs=-1,                                    random_state=2021</td>\n",
       "      <td>n_estimators=5, learning_rate=0.8, algorithm='SAMME.R',                                    random_state=2021</td>\n",
       "      <td>final_estimator = linear_model.LogisticRegression(C=1),                                       cv=3, stack_method='predict_proba', n_jobs=-1</td>\n",
       "    </tr>\n",
       "    <tr>\n",
       "      <th>Precision</th>\n",
       "      <td>0.6782</td>\n",
       "      <td>0.7258</td>\n",
       "      <td>0.721</td>\n",
       "    </tr>\n",
       "    <tr>\n",
       "      <th>Recall</th>\n",
       "      <td>0.5123</td>\n",
       "      <td>0.679</td>\n",
       "      <td>0.6939</td>\n",
       "    </tr>\n",
       "    <tr>\n",
       "      <th>$F_{beta}$</th>\n",
       "      <td>0.8025</td>\n",
       "      <td>0.8467</td>\n",
       "      <td>0.8467</td>\n",
       "    </tr>\n",
       "    <tr>\n",
       "      <th>AUC</th>\n",
       "      <td>0.9184</td>\n",
       "      <td>0.9405</td>\n",
       "      <td>0.9443</td>\n",
       "    </tr>\n",
       "  </tbody>\n",
       "</table>\n",
       "</div>"
      ],
      "text/plain": [
       "                                                                                                                              Bagging  \\\n",
       "Base classifiers                                                                                               RandomForestClassifier   \n",
       "Parameter settings  n_estimators=10, max_samples=100, bootstrap=True, n_jobs=-1,                                    random_state=2021   \n",
       "Precision                                                                                                                      0.6782   \n",
       "Recall                                                                                                                         0.5123   \n",
       "$F_{beta}$                                                                                                                     0.8025   \n",
       "AUC                                                                                                                            0.9184   \n",
       "\n",
       "                                                                                                                        Boosting  \\\n",
       "Base classifiers                                                                         RandomForestClassifier(n_estimators=30)   \n",
       "Parameter settings  n_estimators=5, learning_rate=0.8, algorithm='SAMME.R',                                    random_state=2021   \n",
       "Precision                                                                                                                 0.7258   \n",
       "Recall                                                                                                                     0.679   \n",
       "$F_{beta}$                                                                                                                0.8467   \n",
       "AUC                                                                                                                       0.9405   \n",
       "\n",
       "                                                                                                                                                       Stacking  \n",
       "Base classifiers                                                                                         RandomForestClassifier, GaussianNB, LogisticRegression  \n",
       "Parameter settings  final_estimator = linear_model.LogisticRegression(C=1),                                       cv=3, stack_method='predict_proba', n_jobs=-1  \n",
       "Precision                                                                                                                                                 0.721  \n",
       "Recall                                                                                                                                                   0.6939  \n",
       "$F_{beta}$                                                                                                                                               0.8467  \n",
       "AUC                                                                                                                                                      0.9443  "
      ]
     },
     "execution_count": 223,
     "metadata": {},
     "output_type": "execute_result"
    }
   ],
   "source": [
    "# result\n",
    "pd.set_option('display.max_colwidth', None)\n",
    "res4_pd = pd.DataFrame(info4_dict, index = inx)\n",
    "res4_pd"
   ]
  },
  {
   "cell_type": "code",
   "execution_count": 169,
   "metadata": {},
   "outputs": [],
   "source": [
    "comments_4 = \"\"\"With new add data, Boosting and Stacking perform better than before with same parameters.\n",
    "Boosting perform well even with lower parameter set. \n",
    "However, Bagging's performance seems not improve with new add data.\"\"\" "
   ]
  }
 ],
 "metadata": {
  "kernelspec": {
   "display_name": "Python 3",
   "language": "python",
   "name": "python3"
  },
  "language_info": {
   "codemirror_mode": {
    "name": "ipython",
    "version": 3
   },
   "file_extension": ".py",
   "mimetype": "text/x-python",
   "name": "python",
   "nbconvert_exporter": "python",
   "pygments_lexer": "ipython3",
   "version": "3.7.9"
  }
 },
 "nbformat": 4,
 "nbformat_minor": 2
}
